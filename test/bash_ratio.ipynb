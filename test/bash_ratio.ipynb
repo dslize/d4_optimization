{
 "cells": [
  {
   "cell_type": "code",
   "execution_count": 1,
   "id": "4a3c3d22-072b-4e54-8670-b497afdc8e0f",
   "metadata": {},
   "outputs": [],
   "source": [
    "import pyomo.environ as pyo"
   ]
  },
  {
   "cell_type": "markdown",
   "id": "ff1d35f6-378e-4bc6-a835-97cc05a5302b",
   "metadata": {},
   "source": [
    "## Enter your data here"
   ]
  },
  {
   "cell_type": "code",
   "execution_count": 2,
   "id": "5b4369e4-e7e9-4c5e-a897-3800679f7ddd",
   "metadata": {},
   "outputs": [],
   "source": [
    "# parameters\n",
    "\n",
    "csc = 0.6\n",
    "dmg_add = 0.5 + 3.154 + 0.24 + 0.495 + 0.24 + 0.784 + 0.396\n",
    "dmg_bleed = 0.313\n",
    "dmg_bers_p = 1.484            # damage while berserking from paragon\n",
    "dmg_vuln_p = 0.396            # vulnerable damage from paragon\n",
    "dmg_csd_i = 0.175+0.175+0.35  # csd from weapon implicits\n",
    "paingorger_roll = 2\n",
    "paingorger_as = 0.145\n",
    "paingorger_csc = 0.116\n",
    "# enter your strength from all sources but rings and amulet\n",
    "str_no_jewelery = 1811\n",
    "# all attack speed bonuses from non-gear bonuses\n",
    "as_non_gear = 0.3 + 0.2 + 0.16 + 0.4\n",
    "# critical strike chance from base and stats\n",
    "csc_non_gear = 0.05 + 0.1\n",
    "\n",
    "# passive skill ranks in talents for Heavy Handed (hh), Cut to the Bone (cttb), Counteroffensive (co), Pit Fighter (pf)\n",
    "ranks_hh = 3\n",
    "ranks_cttb = 3\n",
    "ranks_co = 3\n",
    "ranks_pf = 3\n",
    "\n",
    "# maximal number of skill rank affixes on the amulet. Set to 1 if you are not RMT'ing\n",
    "amu_max_skillrank_affixes = 1\n",
    "# set to 1 if you want to use cooldown reduction on the amulet, otherwise 0\n",
    "amu_use_cdr = 1"
   ]
  },
  {
   "cell_type": "markdown",
   "id": "b50bb082-04a5-4942-9b2a-7053fd190317",
   "metadata": {},
   "source": [
    "## Constants"
   ]
  },
  {
   "cell_type": "code",
   "execution_count": 3,
   "id": "d9f5f825-eca9-4527-b804-eb57a8daa7d1",
   "metadata": {},
   "outputs": [],
   "source": [
    "# data for all the affix values, assuming max roll and fully masterworked (1.45), but no mw crits\n",
    "\n",
    "temper_csd = 0.85 * 1.45\n",
    "temper_vd = 0.55 * 1.45\n",
    "temper_bd = 0.55 * 1.45\n",
    "temper_bash_cleave = 1.05 * 1.45\n",
    "\n",
    "gear_csd = 0.5 * 1.45\n",
    "gear_vd = 0.4 * 1.45\n",
    "gear_csc = 0.06 * 1.45\n",
    "gear_as = 0.09 * 1.45\n",
    "gear_str = 90\n",
    "\n",
    "amulet_csc = 0.08 * 1.45\n",
    "amulet_as = 0.09 * 1.45\n",
    "amulet_str_perc = 0.073 * 1.45\n",
    "amulet_skill_ranks = 3           # 2 skill ranks upgrade to 3 without mw crit but full mw\n",
    "\n",
    "gem_csd = 0.25\n",
    "gem_vd = 0.2\n",
    "gem_basicd = 0.45"
   ]
  },
  {
   "cell_type": "markdown",
   "id": "8c984e8f-6c2e-4365-9762-5b106167b692",
   "metadata": {},
   "source": [
    "## Model starts here"
   ]
  },
  {
   "cell_type": "code",
   "execution_count": 4,
   "id": "a2df0c2d-1a4e-4c4d-97eb-702339a06af1",
   "metadata": {},
   "outputs": [],
   "source": [
    "model = pyo.ConcreteModel()"
   ]
  },
  {
   "cell_type": "code",
   "execution_count": 5,
   "id": "d9adb288-c40d-41be-85e1-5d58f87567ef",
   "metadata": {},
   "outputs": [],
   "source": [
    "# variable declaration, vd=vulnerable damage, bd=berserking damage, csd=critical strike damage\n",
    "model.x_vd = pyo.Var(domain=pyo.NonNegativeReals)\n",
    "model.x_csd = pyo.Var(domain=pyo.NonNegativeReals)\n",
    "model.x_bd = pyo.Var(domain=pyo.NonNegativeReals)\n",
    "\n",
    "# introduce an auxiliary variable for berserking damage that caps at 3 for the purpose of calculating Blood Rage multiplier\n",
    "model.x_bd_capped = pyo.Var(domain=pyo.NonNegativeReals)"
   ]
  },
  {
   "cell_type": "code",
   "execution_count": 6,
   "id": "1b3fd529-6425-453d-9859-16b3291ca9a4",
   "metadata": {},
   "outputs": [],
   "source": [
    "# combine parameters with variables so the final damage formula is less verbose\n",
    "pg = 1 + paingorger_roll\n",
    "hh = 1 + 0.05*ranks_hh\n",
    "cttb = 1 + 0.05*ranks_cttb\n",
    "co = 1 + 0.04*ranks_co\n",
    "pf = 1 + 0.03*ranks_pf\n",
    "\n",
    "vd = dmg_vuln_p + model.x_vd\n",
    "csd = dmg_csd_i + model.x_csd\n",
    "bd = dmg_bers_p + model.x_bd\n",
    "bd_capped = dmg_bers_p + model.x_bd_capped\n",
    "# add includes all additive damage multipliers that are not vd, csd, bd and bleeding damage. add_b includes bleeding damage\n",
    "add = dmg_add\n",
    "add_bld = add + dmg_bleed\n",
    "\n",
    "ats = paingorger_as + as_non_gear\n",
    "csc = 0.6\n",
    "\n",
    "str_multi = 1 + (str_no_jewelery)*0.1"
   ]
  },
  {
   "cell_type": "code",
   "execution_count": 7,
   "id": "c7ad4996-0287-448b-9008-eee58e3d6ca2",
   "metadata": {},
   "outputs": [],
   "source": [
    "# subexpressions for the objective function\n",
    "\n",
    "# subexpression for the hit damage part of bash, assuming Adaptability and Moonrise(1.8) do not interact with Berserk Ripping\n",
    "# assuming vulnerable damage works with Paingorger, but crit does not\n",
    "# 1.15 Two-Handed Mace Expertise\n",
    "bash_hit = 1.8 * (1+bd_capped*0.1) * ((1-csc+pg)*(1+add+vd+bd) + csc*1.5*hh*1.15*(1+add+vd+csd+bd))\n",
    "\n",
    "# subexpression for the bleed caused by Berserk Ripping\n",
    "# multipliers that apply to both normal bleeds and gushing wounds bleeds already included in the base\n",
    "br_base = (1+pg) * 0.6 * (1+vd*0.15) * (1+bd_capped*0.1) * (1+add_bld+vd+bd) * cttb\n",
    "bash_bleed = (1-csc)*br_base + csc*br_base*(1+csd)*(1+0.5*1.4)*hh*1.15"
   ]
  },
  {
   "cell_type": "code",
   "execution_count": 8,
   "id": "4c9914b1-4c8a-47be-a0c4-e661c91b0130",
   "metadata": {},
   "outputs": [],
   "source": [
    "# preliminary stat budget of 500+500+150\n",
    "stat_budget = 11.5"
   ]
  },
  {
   "cell_type": "code",
   "execution_count": 9,
   "id": "6197732b-e4a5-4580-a776-7c713e496079",
   "metadata": {},
   "outputs": [],
   "source": [
    "# objective function maximizes the total multiplier incl. attack speed, assuming enemies are always vulnerable (1.2 multiplier irrelevant for the optimization)\n",
    "total_bash_multi = bash_hit+bash_bleed\n",
    "model.obj = pyo.Objective(expr = total_bash_multi, sense=pyo.maximize)\n",
    "\n",
    "# constraints for the stat budget\n",
    "model.statbudget = pyo.Constraint(expr = model.x_vd+model.x_csd+model.x_bd <= stat_budget)\n",
    "# limit the capped berserking damage variable to the uncapped one, and limit it to 3\n",
    "model.bd1 = pyo.Constraint(expr = bd_capped <= bd)\n",
    "model.bd2 = pyo.Constraint(expr = bd_capped <= 3)"
   ]
  },
  {
   "cell_type": "code",
   "execution_count": 10,
   "id": "73a94417-f7a5-4244-8c60-19535584d7ef",
   "metadata": {},
   "outputs": [
    {
     "name": "stdout",
     "output_type": "stream",
     "text": [
      "4 Var Declarations\n",
      "    x_bd : Size=1, Index=None\n",
      "        Key  : Lower : Value : Upper : Fixed : Stale : Domain\n",
      "        None :     0 :  None :  None : False :  True : NonNegativeReals\n",
      "    x_bd_capped : Size=1, Index=None\n",
      "        Key  : Lower : Value : Upper : Fixed : Stale : Domain\n",
      "        None :     0 :  None :  None : False :  True : NonNegativeReals\n",
      "    x_csd : Size=1, Index=None\n",
      "        Key  : Lower : Value : Upper : Fixed : Stale : Domain\n",
      "        None :     0 :  None :  None : False :  True : NonNegativeReals\n",
      "    x_vd : Size=1, Index=None\n",
      "        Key  : Lower : Value : Upper : Fixed : Stale : Domain\n",
      "        None :     0 :  None :  None : False :  True : NonNegativeReals\n",
      "\n",
      "1 Objective Declarations\n",
      "    obj : Size=1, Index=None, Active=True\n",
      "        Key  : Active : Sense    : Expression\n",
      "        None :   True : maximize : 0.4*(2.4*(1 + (0.396 + x_vd)*0.15)*(1 + (1.484 + x_bd_capped)*0.1)*(0.396 + x_vd + 7.122 + 1.484 + x_bd)*1.15) + 0.6*(2.4*(1 + (0.396 + x_vd)*0.15)*(1 + (1.484 + x_bd_capped)*0.1)*(0.396 + x_vd + 7.122 + 1.484 + x_bd)*1.15)*(0.7 + x_csd + 1)*1.7*1.15*1.15 + 1.8*(1 + (1.484 + x_bd_capped)*0.1)*(3.4*(0.396 + x_vd + 6.809 + 1.484 + x_bd) + 1.1902499999999998*(0.396 + x_vd + 6.809 + 0.7 + x_csd + 1.484 + x_bd))\n",
      "\n",
      "3 Constraint Declarations\n",
      "    bd1 : Size=1, Index=None, Active=True\n",
      "        Key  : Lower : Body                                 : Upper : Active\n",
      "        None :  -Inf : 1.484 + x_bd_capped - (1.484 + x_bd) :   0.0 :   True\n",
      "    bd2 : Size=1, Index=None, Active=True\n",
      "        Key  : Lower : Body                : Upper : Active\n",
      "        None :  -Inf : 1.484 + x_bd_capped :   3.0 :   True\n",
      "    statbudget : Size=1, Index=None, Active=True\n",
      "        Key  : Lower : Body                : Upper : Active\n",
      "        None :  -Inf : x_vd + x_csd + x_bd :  11.5 :   True\n",
      "\n",
      "8 Declarations: x_vd x_csd x_bd x_bd_capped obj statbudget bd1 bd2\n"
     ]
    }
   ],
   "source": [
    "model.pprint()"
   ]
  },
  {
   "cell_type": "code",
   "execution_count": 11,
   "id": "4ed9b59b-d6fc-4b31-88de-49d51ccb53b5",
   "metadata": {},
   "outputs": [
    {
     "name": "stdout",
     "output_type": "stream",
     "text": [
      "Couenne 0.5.8 -- an Open-Source solver for Mixed Integer Nonlinear Optimization\n",
      "Mailing list: couenne@list.coin-or.org\n",
      "Instructions: http://www.coin-or.org/Couenne\n",
      "couenne: \n",
      "ANALYSIS TEST: Couenne: new cutoff value -6.6278802372e+02 (0.003 seconds)\n",
      "NLP0012I \n",
      "              Num      Status      Obj             It       time                 Location\n",
      "NLP0014I             1         OPT -1130.0997       11 0.001\n",
      "Couenne: new cutoff value -1.1300996637e+03 (0.006 seconds)\n",
      "Loaded instance \"C:\\Users\\Daniel\\AppData\\Local\\Temp\\tmpeyz54gno.pyomo.nl\"\n",
      "Constraints:            3\n",
      "Variables:              4 (0 integer)\n",
      "Auxiliaries:           10 (0 integer)\n",
      "\n",
      "Coin0506I Presolve 20 (-4) rows, 10 (-4) columns and 65 (-5) elements\n",
      "Clp0006I 0  Obj -6195.1082 Primal inf 1566.5447 (5)\n",
      "Clp0006I 12  Obj -2362.1206\n",
      "Clp0000I Optimal - objective value -2362.1206\n",
      "Clp0032I Optimal objective -2362.120559 - 12 iterations time 0.002, Presolve 0.00\n",
      "Clp0000I Optimal - objective value -2362.1206\n",
      "Cbc0012I Integer solution of -1130.0997 found by Couenne Rounding NLP after 0 iterations and 0 nodes (0.00 seconds)\n",
      "NLP Heuristic: NLP0014I             2         OPT -1130.0997        4 0.001\n",
      "no solution.\n",
      "Clp0000I Optimal - objective value -2362.1206\n",
      "Optimality Based BT: 14 improved bounds\n",
      "Probing: 6 improved bounds\n",
      "NLP Heuristic: no solution.\n",
      "Cbc0031I 6 added rows had average density of 3\n",
      "Cbc0013I At root node, 6 cuts changed objective from -2362.1206 to -1187.4507 in 19 passes\n",
      "Cbc0014I Cut generator 0 (Couenne convexifier cuts) - 34 row cuts average 3.0 elements, 20 column cuts (20 active)\n",
      "Cbc0010I After 0 nodes, 1 on tree, -1130.0997 best solution, best possible -1187.4507 (0.01 seconds)\n",
      "Optimality Based BT: 11 improved bounds\n",
      "Optimality Based BT: 14 improved bounds\n",
      "Optimality Based BT: 12 improved bounds\n",
      "Optimality Based BT: 13 improved bounds\n",
      "Cbc0001I Search completed - best objective -1130.099663683674, took 201 iterations and 44 nodes (0.04 seconds)\n",
      "Cbc0035I Maximum depth 11, 0 variables fixed on reduced cost\n",
      "Clp1001I Initial range of elements is 0.1 to 159.98148\n",
      "Clp1003I Final range of elements is 0.12115162 to 1\n",
      "Clp0022I Absolute values of scaled rhs range from 2.6583395 to 167.4415, minimum gap 1e+100\n",
      "Clp0020I Absolute values of scaled objective range from 4.1190503 to 4.1190503\n",
      "Clp0021I Absolute values of scaled bounds range from 4.0290232e-16 to 1504.0137, minimum gap 1.3753991\n",
      "Clp0006I 0  Obj -1793.5969 Primal inf 5.1878511e-08 (2) Dual inf 3.6779509e+10 (2)\n",
      "Clp0006I 1  Obj -1793.5969 Primal inf 5.5258307e-08 (1)\n",
      "Clp0017I Looking optimal with tolerance of 1e-07\n",
      "Clp0006I 1  Obj -1793.5969 Primal inf 5.5258307e-08 (1)\n",
      "Clp0000I Optimal - objective value -1793.5969\n",
      "\b\n",
      " \t\"Finished\"\n",
      "\n",
      "Linearization cuts added at root node:         24\n",
      "Linearization cuts added in total:             24  (separation time: 0s)\n",
      "Total solve time:                           0.036s (0.036s in branch-and-bound)\n",
      "Lower bound:                              -1130.1\n",
      "Upper bound:                              -1130.1  (gap: 0.00%)\n",
      "Branch-and-bound nodes:                        44\n",
      "Performance of                           OBBT:\t      0.011s,        5 runs. fix:          0 shrnk:    8.31637 ubd:          0 2ubd:          0 infeas:          0\n"
     ]
    }
   ],
   "source": [
    "opt = pyo.SolverFactory('couenne', executable = 'C:/Users/Daniel/idaes_opti_venv/solvers/couenne.exe')\n",
    "results = opt.solve(model, tee=True)"
   ]
  },
  {
   "cell_type": "code",
   "execution_count": 12,
   "id": "5795262c-1ecc-4e5a-8237-f1010ca973d7",
   "metadata": {},
   "outputs": [
    {
     "name": "stdout",
     "output_type": "stream",
     "text": [
      "Found optimal solution, with the following variable values:\n",
      "Total Vulnerable Damage: 5.780791986272447\n",
      "Total (raw) Critical Strike Damage: 5.299208123585443\n",
      "Total Berserking Damage: 3.000000005141998\n",
      "Ratio of CSD to VD: 0.9166924075748423\n",
      "Objective function value:  1130.0996636836742\n"
     ]
    }
   ],
   "source": [
    "if (results.solver.status == pyo.SolverStatus.ok) and (results.solver.termination_condition == pyo.TerminationCondition.optimal):\n",
    "    print('Found optimal solution, with the following variable values:')\n",
    "else:\n",
    "    print('No optimal solution found, but these are the best variable assignments:')\n",
    "\n",
    "total_vd = model.x_vd.value+dmg_vuln_p\n",
    "total_csd = model.x_csd.value+dmg_csd_i\n",
    "total_bd = model.x_bd.value+dmg_bers_p\n",
    "\n",
    "print('Total Vulnerable Damage:', total_vd)\n",
    "print('Total (raw) Critical Strike Damage:', total_csd)\n",
    "print('Total Berserking Damage:', total_bd)\n",
    "\n",
    "print('Ratio of CSD to VD:', total_csd/total_vd)\n",
    "print('Objective function value: ', pyo.value(model.obj))"
   ]
  },
  {
   "cell_type": "code",
   "execution_count": 123,
   "id": "8d0f1e78-46f8-45bf-a25a-c3188313baf7",
   "metadata": {},
   "outputs": [
    {
     "name": "stdout",
     "output_type": "stream",
     "text": [
      "4.599208123585443\n"
     ]
    }
   ],
   "source": [
    "print(model.x_csd.value)"
   ]
  },
  {
   "cell_type": "code",
   "execution_count": 124,
   "id": "7ac85e97-b5f2-431e-906c-5a6f6e825777",
   "metadata": {},
   "outputs": [
    {
     "name": "stdout",
     "output_type": "stream",
     "text": [
      "5.384791986272447\n"
     ]
    }
   ],
   "source": [
    "print(model.x_vd.value)"
   ]
  },
  {
   "cell_type": "code",
   "execution_count": 125,
   "id": "603374d4-39cf-4011-a69b-b2566127baf9",
   "metadata": {},
   "outputs": [
    {
     "name": "stdout",
     "output_type": "stream",
     "text": [
      "1.516000005141998\n"
     ]
    }
   ],
   "source": [
    "print(model.x_bd.value)"
   ]
  },
  {
   "cell_type": "code",
   "execution_count": 126,
   "id": "9ed17566-373f-46f4-ba38-71438d5684a4",
   "metadata": {},
   "outputs": [
    {
     "name": "stdout",
     "output_type": "stream",
     "text": [
      "1130.0996636836742\n"
     ]
    }
   ],
   "source": [
    "print(pyo.value(model.obj))"
   ]
  },
  {
   "cell_type": "code",
   "execution_count": 111,
   "id": "a71916d2-c4eb-493a-94f0-e111b5dba553",
   "metadata": {},
   "outputs": [
    {
     "name": "stdout",
     "output_type": "stream",
     "text": [
      "1.5159999999999996\n"
     ]
    }
   ],
   "source": [
    "print(model.x_bd_capped.value)"
   ]
  },
  {
   "cell_type": "code",
   "execution_count": null,
   "id": "77af4b4e-d2de-40a6-9946-0f0a7a9a60dd",
   "metadata": {},
   "outputs": [],
   "source": []
  }
 ],
 "metadata": {
  "kernelspec": {
   "display_name": "Python 3 (ipykernel)",
   "language": "python",
   "name": "python3"
  },
  "language_info": {
   "codemirror_mode": {
    "name": "ipython",
    "version": 3
   },
   "file_extension": ".py",
   "mimetype": "text/x-python",
   "name": "python",
   "nbconvert_exporter": "python",
   "pygments_lexer": "ipython3",
   "version": "3.12.4"
  }
 },
 "nbformat": 4,
 "nbformat_minor": 5
}
