{
 "cells": [
  {
   "cell_type": "code",
   "execution_count": 6,
   "id": "4a3c3d22-072b-4e54-8670-b497afdc8e0f",
   "metadata": {},
   "outputs": [],
   "source": [
    "import pyomo.environ as pyo"
   ]
  },
  {
   "cell_type": "markdown",
   "id": "ff1d35f6-378e-4bc6-a835-97cc05a5302b",
   "metadata": {},
   "source": [
    "## Enter your data here"
   ]
  },
  {
   "cell_type": "code",
   "execution_count": 120,
   "id": "5b4369e4-e7e9-4c5e-a897-3800679f7ddd",
   "metadata": {},
   "outputs": [],
   "source": [
    "# parameters\n",
    "csc = 0.6\n",
    "dmg_add = 0.5 + 3.154 + 0.24 + 0.495 + 0.24 + 0.784 + 0.396\n",
    "dmg_bleed = 0.313\n",
    "dmg_bers_p = 1.484\n",
    "dmg_vuln_p = 0.396\n",
    "dmg_csd_i = 0.175+0.175+0.35\n",
    "paingorger_roll = 2\n",
    "\n",
    "# passive skill ranks for Heavy Handed (hh), Cut to the Bone (cttb)\n",
    "ranks_hh = 3\n",
    "ranks_cttb = 3"
   ]
  },
  {
   "cell_type": "markdown",
   "id": "8c984e8f-6c2e-4365-9762-5b106167b692",
   "metadata": {},
   "source": [
    "## Model starts here"
   ]
  },
  {
   "cell_type": "code",
   "execution_count": 121,
   "id": "a2df0c2d-1a4e-4c4d-97eb-702339a06af1",
   "metadata": {},
   "outputs": [],
   "source": [
    "model = pyo.ConcreteModel()"
   ]
  },
  {
   "cell_type": "code",
   "execution_count": 122,
   "id": "d9adb288-c40d-41be-85e1-5d58f87567ef",
   "metadata": {},
   "outputs": [],
   "source": [
    "# variable declaration, vd=vulnerable damage, bd=berserking damage, csd = critical strike damage\n",
    "model.x_vd = pyo.Var(domain=pyo.NonNegativeReals)\n",
    "model.x_csd = pyo.Var(domain=pyo.NonNegativeReals)\n",
    "model.x_bd = pyo.Var(domain=pyo.NonNegativeReals)"
   ]
  },
  {
   "cell_type": "code",
   "execution_count": 123,
   "id": "1b3fd529-6425-453d-9859-16b3291ca9a4",
   "metadata": {},
   "outputs": [],
   "source": [
    "# combine parameters with variables so the final damage formula is less verbose\n",
    "pg = 1 + paingorger_roll\n",
    "hh = 1 + 0.05*ranks_hh\n",
    "cttb = 1 + 0.05*ranks_cttb\n",
    "\n",
    "vd = dmg_vuln_p + model.x_vd\n",
    "csd = dmg_csd_i + model.x_csd\n",
    "bd = dmg_bers_p + model.x_bd"
   ]
  },
  {
   "cell_type": "code",
   "execution_count": 124,
   "id": "c7ad4996-0287-448b-9008-eee58e3d6ca2",
   "metadata": {},
   "outputs": [],
   "source": [
    "# subexpressions for the objective function\n",
    "\n",
    "# subexpression for the hit damage part of bash, assuming Adaptability and Moonrise(1.8) do not interact with Berserk Ripping\n",
    "# assuming vulnerable damage works with Paingorger, but crit does not\n",
    "# 1.2 vuln multiplier, 1.15 Two-Handed Mace Expertise\n",
    "bash_hit = 1.8 * 1.2 * (1+bd*0.1) * ((1-csc+pg)*(1+dmg_add+vd+bd) + csc*1.5*hh*1.15*(1+dmg_add+vd+csd+bd))\n",
    "\n",
    "# subexpression for the bleed caused by Berserk Ripping\n",
    "# multipliers that apply to both normal bleeds and gushing wounds bleeds already included in the base\n",
    "br_base = (1+pg) * 0.6 * 1.2 * (1+vd*0.15) * (1+bd*0.1) * (1+dmg_add+dmg_bleed+vd+bd) * cttb\n",
    "bash_bleed = (1-csc)*br_base + csc*br_base*((1+csd)*(1+0.5*1.4)*hh*1.15)"
   ]
  },
  {
   "cell_type": "code",
   "execution_count": 125,
   "id": "4c9914b1-4c8a-47be-a0c4-e661c91b0130",
   "metadata": {},
   "outputs": [],
   "source": [
    "# preliminary stat budget of 500+500+150\n",
    "stat_budget = 11.5"
   ]
  },
  {
   "cell_type": "code",
   "execution_count": 126,
   "id": "6197732b-e4a5-4580-a776-7c713e496079",
   "metadata": {},
   "outputs": [],
   "source": [
    "# objective function maximizes the total multiplier (excluding global multipliers that apply to both hit and bleed independent of variables)\n",
    "model.obj = pyo.Objective(expr = bash_hit+bash_bleed, sense=pyo.maximize)\n",
    "\n",
    "# constraints for the stat budget\n",
    "model.statbudget = pyo.Constraint(expr = model.x_vd+model.x_csd+model.x_bd <= stat_budget)\n",
    "# artificially limit berserking damage to 300\n",
    "model.bd = pyo.Constraint(expr = bd <= 3)"
   ]
  },
  {
   "cell_type": "code",
   "execution_count": 127,
   "id": "73a94417-f7a5-4244-8c60-19535584d7ef",
   "metadata": {},
   "outputs": [
    {
     "name": "stdout",
     "output_type": "stream",
     "text": [
      "3 Var Declarations\n",
      "    x_bd : Size=1, Index=None\n",
      "        Key  : Lower : Value : Upper : Fixed : Stale : Domain\n",
      "        None :     0 :  None :  None : False :  True : NonNegativeReals\n",
      "    x_csd : Size=1, Index=None\n",
      "        Key  : Lower : Value : Upper : Fixed : Stale : Domain\n",
      "        None :     0 :  None :  None : False :  True : NonNegativeReals\n",
      "    x_vd : Size=1, Index=None\n",
      "        Key  : Lower : Value : Upper : Fixed : Stale : Domain\n",
      "        None :     0 :  None :  None : False :  True : NonNegativeReals\n",
      "\n",
      "1 Objective Declarations\n",
      "    obj : Size=1, Index=None, Active=True\n",
      "        Key  : Active : Sense    : Expression\n",
      "        None :   True : maximize : 0.4*(2.88*(1 + (0.396 + x_vd)*0.15)*(1 + (1.484 + x_bd)*0.1)*(0.396 + x_vd + 7.122 + 1.484 + x_bd)*1.15) + 0.6*(2.88*(1 + (0.396 + x_vd)*0.15)*(1 + (1.484 + x_bd)*0.1)*(0.396 + x_vd + 7.122 + 1.484 + x_bd)*1.15)*((0.7 + x_csd + 1)*1.7*1.15*1.15) + 2.16*(1 + (1.484 + x_bd)*0.1)*(3.4*(0.396 + x_vd + 6.809 + 1.484 + x_bd) + 1.1902499999999998*(0.396 + x_vd + 6.809 + 0.7 + x_csd + 1.484 + x_bd))\n",
      "\n",
      "2 Constraint Declarations\n",
      "    bd : Size=1, Index=None, Active=True\n",
      "        Key  : Lower : Body         : Upper : Active\n",
      "        None :  -Inf : 1.484 + x_bd :   3.0 :   True\n",
      "    statbudget : Size=1, Index=None, Active=True\n",
      "        Key  : Lower : Body                : Upper : Active\n",
      "        None :  -Inf : x_vd + x_csd + x_bd :  11.5 :   True\n",
      "\n",
      "6 Declarations: x_vd x_csd x_bd obj statbudget bd\n"
     ]
    }
   ],
   "source": [
    "model.pprint()"
   ]
  },
  {
   "cell_type": "code",
   "execution_count": 139,
   "id": "4ed9b59b-d6fc-4b31-88de-49d51ccb53b5",
   "metadata": {},
   "outputs": [
    {
     "name": "stdout",
     "output_type": "stream",
     "text": [
      "Couenne 0.5.8 -- an Open-Source solver for Mixed Integer Nonlinear Optimization\n",
      "Mailing list: couenne@list.coin-or.org\n",
      "Instructions: http://www.coin-or.org/Couenne\n",
      "couenne: \n",
      "ANALYSIS TEST: Couenne: new cutoff value -1.3561195767e+03 (0.01 seconds)\n",
      "NLP0012I \n",
      "              Num      Status      Obj             It       time                 Location\n",
      "NLP0014I             1         OPT -1356.1196        6 0.001\n",
      "Couenne: new cutoff value -1.3561195942e+03 (0.011 seconds)\n",
      "Loaded instance \"C:\\Users\\Daniel\\AppData\\Local\\Temp\\tmp97v4tftu.pyomo.nl\"\n",
      "Constraints:            2\n",
      "Variables:              3 (0 integer)\n",
      "Auxiliaries:           10 (0 integer)\n",
      "\n",
      "Coin0506I Presolve 19 (-4) rows, 9 (-4) columns and 59 (-9) elements\n",
      "Clp0006I 0  Obj -4447.0338 Primal inf 1094.7245 (6)\n",
      "Clp0006I 14  Obj -2151.9056\n",
      "Clp0000I Optimal - objective value -2151.9056\n",
      "Clp0032I Optimal objective -2151.905553 - 14 iterations time 0.002, Presolve 0.00\n",
      "Clp0000I Optimal - objective value -2151.9056\n",
      "Cbc0012I Integer solution of -1356.1196 found by Couenne Rounding NLP after 0 iterations and 0 nodes (0.00 seconds)\n",
      "NLP Heuristic: NLP0014I             2         OPT -1356.1196        5 0\n",
      "solution found, obj. -1356.12\n",
      "Cbc0012I Integer solution of -1356.1196 found by Couenne Rounding NLP after 0 iterations and 0 nodes (0.00 seconds)\n",
      "Clp0000I Optimal - objective value -2151.9056\n",
      "Optimality Based BT: 14 improved bounds\n",
      "Probing: 7 improved bounds\n",
      "NLP Heuristic: no solution.\n",
      "Cbc0031I 6 added rows had average density of 3\n",
      "Cbc0013I At root node, 6 cuts changed objective from -2151.9056 to -1390.5543 in 17 passes\n",
      "Cbc0014I Cut generator 0 (Couenne convexifier cuts) - 36 row cuts average 3.0 elements, 19 column cuts (19 active)\n",
      "Cbc0010I After 0 nodes, 1 on tree, -1356.1196 best solution, best possible -1390.5543 (0.01 seconds)\n",
      "Optimality Based BT: 10 improved bounds\n",
      "Optimality Based BT: 9 improved bounds\n",
      "Optimality Based BT: 10 improved bounds\n",
      "Optimality Based BT: 10 improved bounds\n",
      "Cbc0004I Integer solution of -1356.1196 found after 143 iterations and 22 nodes (0.03 seconds)\n",
      "Cbc0001I Search completed - best objective -1356.119605545359, took 143 iterations and 22 nodes (0.03 seconds)\n",
      "Cbc0035I Maximum depth 6, 0 variables fixed on reduced cost\n",
      "\b\n",
      " \t\"Finished\"\n",
      "\n",
      "Linearization cuts added at root node:         23\n",
      "Linearization cuts added in total:             23  (separation time: 0s)\n",
      "Total solve time:                           0.031s (0.031s in branch-and-bound)\n",
      "Lower bound:                             -1356.12\n",
      "Upper bound:                             -1356.12  (gap: 0.00%)\n",
      "Branch-and-bound nodes:                        22\n",
      "Performance of                           OBBT:\t       0.01s,        5 runs. fix:          0 shrnk:    5.01622 ubd:          0 2ubd:          0 infeas:          0\n"
     ]
    }
   ],
   "source": [
    "opt = pyo.SolverFactory('couenne', executable = 'C:/Users/Daniel/idaes_opti_venv/solvers/couenne.exe')\n",
    "results = opt.solve(model, tee=True)"
   ]
  },
  {
   "cell_type": "code",
   "execution_count": 149,
   "id": "5795262c-1ecc-4e5a-8237-f1010ca973d7",
   "metadata": {},
   "outputs": [
    {
     "name": "stdout",
     "output_type": "stream",
     "text": [
      "Found optimal solution, with the following variable values:\n",
      "Total Vulnerable Damage: 5.780965609422134\n",
      "Total (raw) Critical Strike Damage: 5.299034390577865\n",
      "Total Berserking Damage: 2.9999999999999996\n",
      "Ratio of CSD to VD: 1.0909469883232281\n"
     ]
    }
   ],
   "source": [
    "if (results.solver.status == pyo.SolverStatus.ok) and (results.solver.termination_condition == pyo.TerminationCondition.optimal):\n",
    "    print('Found optimal solution, with the following variable values:')\n",
    "else:\n",
    "    print('No optimal solution found, but these are the best variable assignments:')\n",
    "\n",
    "print('Total Vulnerable Damage:', model.x_vd.value+dmg_vuln_p)\n",
    "print('Total (raw) Critical Strike Damage:', model.x_csd.value+dmg_csd_i)\n",
    "print('Total Berserking Damage:', model.x_bd.value+dmg_bers_p)\n",
    "\n",
    "print('Ratio of CSD to VD:', (model.x_vd.value+dmg_vuln_p)/(model.x_csd.value+dmg_csd_i))"
   ]
  },
  {
   "cell_type": "code",
   "execution_count": 130,
   "id": "8d0f1e78-46f8-45bf-a25a-c3188313baf7",
   "metadata": {},
   "outputs": [
    {
     "name": "stdout",
     "output_type": "stream",
     "text": [
      "4.599208121466778\n"
     ]
    }
   ],
   "source": [
    "print(model.x_csd.value)"
   ]
  },
  {
   "cell_type": "code",
   "execution_count": 131,
   "id": "7ac85e97-b5f2-431e-906c-5a6f6e825777",
   "metadata": {},
   "outputs": [
    {
     "name": "stdout",
     "output_type": "stream",
     "text": [
      "5.384791978382899\n"
     ]
    }
   ],
   "source": [
    "print(model.x_vd.value)"
   ]
  },
  {
   "cell_type": "code",
   "execution_count": 132,
   "id": "603374d4-39cf-4011-a69b-b2566127baf9",
   "metadata": {},
   "outputs": [
    {
     "name": "stdout",
     "output_type": "stream",
     "text": [
      "1.5159999999999996\n"
     ]
    }
   ],
   "source": [
    "print(model.x_bd.value)"
   ]
  },
  {
   "cell_type": "code",
   "execution_count": 133,
   "id": "9ed17566-373f-46f4-ba38-71438d5684a4",
   "metadata": {},
   "outputs": [
    {
     "name": "stdout",
     "output_type": "stream",
     "text": [
      "1356.1195942269321\n"
     ]
    }
   ],
   "source": [
    "print(pyo.value(model.obj))"
   ]
  },
  {
   "cell_type": "code",
   "execution_count": null,
   "id": "a71916d2-c4eb-493a-94f0-e111b5dba553",
   "metadata": {},
   "outputs": [],
   "source": []
  }
 ],
 "metadata": {
  "kernelspec": {
   "display_name": "Python 3 (ipykernel)",
   "language": "python",
   "name": "python3"
  },
  "language_info": {
   "codemirror_mode": {
    "name": "ipython",
    "version": 3
   },
   "file_extension": ".py",
   "mimetype": "text/x-python",
   "name": "python",
   "nbconvert_exporter": "python",
   "pygments_lexer": "ipython3",
   "version": "3.12.4"
  }
 },
 "nbformat": 4,
 "nbformat_minor": 5
}
